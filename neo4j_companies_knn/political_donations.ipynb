{
 "cells": [
  {
   "cell_type": "code",
   "execution_count": 1,
   "id": "b3d50d18-7851-4b6d-ad4e-6d8403b2ce4a",
   "metadata": {},
   "outputs": [
    {
     "name": "stderr",
     "output_type": "stream",
     "text": [
      "/Users/pax-data/.local/share/virtualenvs/neo4j_companies_knn-8Hv7Sjok/lib/python3.9/site-packages/tqdm/auto.py:22: TqdmWarning: IProgress not found. Please update jupyter and ipywidgets. See https://ipywidgets.readthedocs.io/en/stable/user_install.html\n",
      "  from .autonotebook import tqdm as notebook_tqdm\n"
     ]
    }
   ],
   "source": [
    "from graphdatascience import GraphDataScience\n",
    "\n",
    "gds = GraphDataScience(\"bolt://localhost:7687\", auth=None)"
   ]
  },
  {
   "cell_type": "code",
   "execution_count": 2,
   "id": "25a1ed6f-0314-47dc-a175-19064fad5c22",
   "metadata": {},
   "outputs": [],
   "source": [
    "gds.set_database(\"neo4j\")"
   ]
  },
  {
   "cell_type": "code",
   "execution_count": 3,
   "id": "24709c5e-80a1-49d5-8181-7c9b84d4f6b9",
   "metadata": {},
   "outputs": [],
   "source": [
    "G, metadata = gds.graph.project( \"donations\", [\"Company\", \"Recipient\"],\n",
    "                        { 'DONATED': {'properties': 'value' }})"
   ]
  },
  {
   "cell_type": "code",
   "execution_count": 4,
   "id": "20c23456-b62b-46ff-a538-d0234137dba4",
   "metadata": {},
   "outputs": [
    {
     "data": {
      "text/plain": [
       "nodeProjection            {'Company': {'label': 'Company', 'properties':...\n",
       "relationshipProjection    {'DONATED': {'orientation': 'NATURAL', 'aggreg...\n",
       "graphName                                                         donations\n",
       "nodeCount                                                             26235\n",
       "relationshipCount                                                        65\n",
       "projectMillis                                                           254\n",
       "Name: 0, dtype: object"
      ]
     },
     "execution_count": 4,
     "metadata": {},
     "output_type": "execute_result"
    }
   ],
   "source": [
    "metadata"
   ]
  },
  {
   "cell_type": "code",
   "execution_count": 5,
   "id": "a1a66b40",
   "metadata": {},
   "outputs": [
    {
     "data": {
      "text/html": [
       "<div>\n",
       "<style scoped>\n",
       "    .dataframe tbody tr th:only-of-type {\n",
       "        vertical-align: middle;\n",
       "    }\n",
       "\n",
       "    .dataframe tbody tr th {\n",
       "        vertical-align: top;\n",
       "    }\n",
       "\n",
       "    .dataframe thead th {\n",
       "        text-align: right;\n",
       "    }\n",
       "</style>\n",
       "<table border=\"1\" class=\"dataframe\">\n",
       "  <thead>\n",
       "    <tr style=\"text-align: right;\">\n",
       "      <th></th>\n",
       "      <th>degreeDistribution</th>\n",
       "      <th>graphName</th>\n",
       "      <th>database</th>\n",
       "      <th>memoryUsage</th>\n",
       "      <th>sizeInBytes</th>\n",
       "      <th>nodeCount</th>\n",
       "      <th>relationshipCount</th>\n",
       "      <th>configuration</th>\n",
       "      <th>density</th>\n",
       "      <th>creationTime</th>\n",
       "      <th>modificationTime</th>\n",
       "      <th>schema</th>\n",
       "    </tr>\n",
       "  </thead>\n",
       "  <tbody>\n",
       "    <tr>\n",
       "      <th>0</th>\n",
       "      <td>{'p99': 0, 'min': 0, 'max': 15, 'mean': 0.0024...</td>\n",
       "      <td>donations</td>\n",
       "      <td>neo4j</td>\n",
       "      <td>30 MiB</td>\n",
       "      <td>31679288</td>\n",
       "      <td>26235</td>\n",
       "      <td>65</td>\n",
       "      <td>{'relationshipProjection': {'DONATED': {'orien...</td>\n",
       "      <td>9.444257e-08</td>\n",
       "      <td>2022-09-14T14:26:08.745964000+00:00</td>\n",
       "      <td>2022-09-14T14:26:09.001856000+00:00</td>\n",
       "      <td>{'graphProperties': {}, 'relationships': {'DON...</td>\n",
       "    </tr>\n",
       "  </tbody>\n",
       "</table>\n",
       "</div>"
      ],
      "text/plain": [
       "                                  degreeDistribution  graphName database  \\\n",
       "0  {'p99': 0, 'min': 0, 'max': 15, 'mean': 0.0024...  donations    neo4j   \n",
       "\n",
       "  memoryUsage  sizeInBytes  nodeCount  relationshipCount  \\\n",
       "0      30 MiB     31679288      26235                 65   \n",
       "\n",
       "                                       configuration       density  \\\n",
       "0  {'relationshipProjection': {'DONATED': {'orien...  9.444257e-08   \n",
       "\n",
       "                          creationTime                     modificationTime  \\\n",
       "0  2022-09-14T14:26:08.745964000+00:00  2022-09-14T14:26:09.001856000+00:00   \n",
       "\n",
       "                                              schema  \n",
       "0  {'graphProperties': {}, 'relationships': {'DON...  "
      ]
     },
     "execution_count": 5,
     "metadata": {},
     "output_type": "execute_result"
    }
   ],
   "source": [
    "gds.graph.list()"
   ]
  },
  {
   "cell_type": "code",
   "execution_count": 58,
   "id": "84c88251-774b-4da2-b366-fdb0e8cebc23",
   "metadata": {},
   "outputs": [
    {
     "data": {
      "text/plain": [
       "graphName                                                    donations\n",
       "database                                                         neo4j\n",
       "memoryUsage                                                           \n",
       "sizeInBytes                                                         -1\n",
       "nodeCount                                                        26235\n",
       "relationshipCount                                                   65\n",
       "configuration        {'relationshipProjection': {'DONATED': {'orien...\n",
       "density                                                            0.0\n",
       "creationTime                       2022-09-14T10:50:23.530036000+00:00\n",
       "modificationTime                   2022-09-14T10:50:40.530654000+00:00\n",
       "schema               {'graphProperties': {}, 'relationships': {'DON...\n",
       "Name: 0, dtype: object"
      ]
     },
     "execution_count": 58,
     "metadata": {},
     "output_type": "execute_result"
    }
   ],
   "source": [
    "gds.graph.get(\"donations\").drop()"
   ]
  },
  {
   "cell_type": "code",
   "execution_count": 6,
   "id": "2244f0aa-bdce-434e-846d-f413ef451a23",
   "metadata": {},
   "outputs": [],
   "source": [
    "result = gds.fastRP.mutate(\n",
    "    G,\n",
    "    mutateProperty=\"embedding\",\n",
    "    embeddingDimension=4,\n",
    "    randomSeed=56,\n",
    "    relationshipWeightProperty=\"value\",\n",
    "    iterationWeights=[0.8, 1, 1, 1],\n",
    ")"
   ]
  },
  {
   "cell_type": "code",
   "execution_count": 7,
   "id": "c92f3377-7fa0-47aa-962e-40a32a36b6df",
   "metadata": {},
   "outputs": [
    {
     "name": "stdout",
     "output_type": "stream",
     "text": [
      "Relationships produced: 52470\n",
      "Nodes compared: 26235\n"
     ]
    }
   ],
   "source": [
    "result_knn = gds.knn.write(\n",
    "    G,\n",
    "    topK=2,\n",
    "    nodeProperties=[\"embedding\"],\n",
    "    writeRelationshipType=\"SIMILAR\",\n",
    "    writeProperty=\"score\",\n",
    ")\n",
    "print(f\"Relationships produced: {result_knn['relationshipsWritten']}\")\n",
    "print(f\"Nodes compared: {result_knn['nodesCompared']}\")"
   ]
  },
  {
   "cell_type": "code",
   "execution_count": 13,
   "id": "51263b81-021c-4cb8-b518-c7f9f9bff6d1",
   "metadata": {},
   "outputs": [
    {
     "data": {
      "text/html": [
       "<div>\n",
       "<style scoped>\n",
       "    .dataframe tbody tr th:only-of-type {\n",
       "        vertical-align: middle;\n",
       "    }\n",
       "\n",
       "    .dataframe tbody tr th {\n",
       "        vertical-align: top;\n",
       "    }\n",
       "\n",
       "    .dataframe thead th {\n",
       "        text-align: right;\n",
       "    }\n",
       "</style>\n",
       "<table border=\"1\" class=\"dataframe\">\n",
       "  <thead>\n",
       "    <tr style=\"text-align: right;\">\n",
       "      <th></th>\n",
       "      <th>c1.name</th>\n",
       "      <th>c1.companyNumber</th>\n",
       "      <th>c2.name</th>\n",
       "      <th>c2.companyNumber</th>\n",
       "    </tr>\n",
       "  </thead>\n",
       "  <tbody>\n",
       "    <tr>\n",
       "      <th>0</th>\n",
       "      <td>BLOOMBERG UK LIMITED</td>\n",
       "      <td>03430322</td>\n",
       "      <td>TRAFALGAR PUB LIMITED</td>\n",
       "      <td>07983771</td>\n",
       "    </tr>\n",
       "  </tbody>\n",
       "</table>\n",
       "</div>"
      ],
      "text/plain": [
       "                c1.name c1.companyNumber                c2.name  \\\n",
       "0  BLOOMBERG UK LIMITED         03430322  TRAFALGAR PUB LIMITED   \n",
       "\n",
       "  c2.companyNumber  \n",
       "0         07983771  "
      ]
     },
     "execution_count": 13,
     "metadata": {},
     "output_type": "execute_result"
    }
   ],
   "source": [
    "query = \"\"\"\n",
    "        MATCH (c1:Company {name: \"BLOOMBERG UK LIMITED\"})-[r:SIMILAR]->(c2:Company)\n",
    "        WHERE c1.name <> 'None' AND c2.name <> 'None'\n",
    "        RETURN c1.name, c1.companyNumber, c2.name, c2.companyNumber\n",
    "        LIMIT 1\n",
    "        \"\"\"\n",
    "\n",
    "gds.run_cypher(query)"
   ]
  },
  {
   "cell_type": "code",
   "execution_count": 14,
   "id": "894d3a0e-33f1-4393-8ca8-ce07d5a48665",
   "metadata": {},
   "outputs": [
    {
     "data": {
      "text/html": [
       "<div>\n",
       "<style scoped>\n",
       "    .dataframe tbody tr th:only-of-type {\n",
       "        vertical-align: middle;\n",
       "    }\n",
       "\n",
       "    .dataframe tbody tr th {\n",
       "        vertical-align: top;\n",
       "    }\n",
       "\n",
       "    .dataframe thead th {\n",
       "        text-align: right;\n",
       "    }\n",
       "</style>\n",
       "<table border=\"1\" class=\"dataframe\">\n",
       "  <thead>\n",
       "    <tr style=\"text-align: right;\">\n",
       "      <th></th>\n",
       "      <th>p.name</th>\n",
       "    </tr>\n",
       "  </thead>\n",
       "  <tbody>\n",
       "    <tr>\n",
       "      <th>0</th>\n",
       "      <td>Alec Litowitz</td>\n",
       "    </tr>\n",
       "    <tr>\n",
       "      <th>1</th>\n",
       "      <td>Ross Steven Laser</td>\n",
       "    </tr>\n",
       "  </tbody>\n",
       "</table>\n",
       "</div>"
      ],
      "text/plain": [
       "              p.name\n",
       "0      Alec Litowitz\n",
       "1  Ross Steven Laser"
      ]
     },
     "execution_count": 14,
     "metadata": {},
     "output_type": "execute_result"
    }
   ],
   "source": [
    "query=\"\"\"\n",
    "MATCH (p:Person)-[:HAS_CONTROL]->(c:Company {name: \"MAGNETAR FINANCIAL (UK) LLP\"})\n",
    "RETURN p.name\n",
    "\"\"\"\n",
    "gds.run_cypher(query)"
   ]
  },
  {
   "cell_type": "code",
   "execution_count": null,
   "id": "6cca76e8-8ffd-4e19-beb3-06be5f1c27c8",
   "metadata": {},
   "outputs": [],
   "source": []
  }
 ],
 "metadata": {
  "kernelspec": {
   "display_name": "Python 3 (ipykernel)",
   "language": "python",
   "name": "python3"
  },
  "language_info": {
   "codemirror_mode": {
    "name": "ipython",
    "version": 3
   },
   "file_extension": ".py",
   "mimetype": "text/x-python",
   "name": "python",
   "nbconvert_exporter": "python",
   "pygments_lexer": "ipython3",
   "version": "3.9.12"
  }
 },
 "nbformat": 4,
 "nbformat_minor": 5
}
