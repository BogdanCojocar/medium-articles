{
 "cells": [
  {
   "cell_type": "code",
   "execution_count": 1,
   "id": "6e621b3e-3801-4c10-9a31-987f83e7c970",
   "metadata": {},
   "outputs": [],
   "source": [
    "import findspark\n",
    "findspark.init()\n",
    "\n",
    "import pyspark\n",
    "from pyspark.sql.session import SparkSession\n",
    "from pyspark.sql.types import *\n",
    "from pyspark.ml.feature import StringIndexer, VectorAssembler\n",
    "from pyspark.ml import Pipeline\n",
    "from pyspark.sql.functions import col\n",
    "\n",
    "from xgboost.spark import SparkXGBClassifier"
   ]
  },
  {
   "cell_type": "code",
   "execution_count": 2,
   "id": "41adb94b-9bcd-4d7f-b7c8-d30bf6809e2d",
   "metadata": {},
   "outputs": [
    {
     "name": "stdout",
     "output_type": "stream",
     "text": [
      "22/10/20 15:47:18 WARN Utils: Your hostname, Bogdans-MacBook-Pro.local resolves to a loopback address: 127.0.0.1; using 192.168.1.11 instead (on interface en0)\n",
      "22/10/20 15:47:18 WARN Utils: Set SPARK_LOCAL_IP if you need to bind to another address\n"
     ]
    },
    {
     "name": "stderr",
     "output_type": "stream",
     "text": [
      "Setting default log level to \"WARN\".\n",
      "To adjust logging level use sc.setLogLevel(newLevel). For SparkR, use setLogLevel(newLevel).\n"
     ]
    },
    {
     "name": "stdout",
     "output_type": "stream",
     "text": [
      "22/10/20 15:47:19 WARN NativeCodeLoader: Unable to load native-hadoop library for your platform... using builtin-java classes where applicable\n"
     ]
    }
   ],
   "source": [
    "spark = SparkSession\n",
    "        .builder\n",
    "        .appName(\"PySpark XGBOOST Native\")\n",
    "        .getOrCreate()"
   ]
  },
  {
   "cell_type": "code",
   "execution_count": 3,
   "id": "f3732bfd-a826-43b0-bff1-6a8458fd660d",
   "metadata": {},
   "outputs": [],
   "source": [
    "schema = StructType(\n",
    "  [StructField(\"PassengerId\", DoubleType()),\n",
    "    StructField(\"Survived\", DoubleType()),\n",
    "    StructField(\"Pclass\", DoubleType()),\n",
    "    StructField(\"Name\", StringType()),\n",
    "    StructField(\"Sex\", StringType()),\n",
    "    StructField(\"Age\", DoubleType()),\n",
    "    StructField(\"SibSp\", DoubleType()),\n",
    "    StructField(\"Parch\", DoubleType()),\n",
    "    StructField(\"Ticket\", StringType()),\n",
    "    StructField(\"Fare\", DoubleType()),\n",
    "    StructField(\"Cabin\", StringType()),\n",
    "    StructField(\"Embarked\", StringType())\n",
    "  ])"
   ]
  },
  {
   "cell_type": "code",
   "execution_count": 4,
   "id": "4cbe80ea-702c-4596-b582-4dd20b08048e",
   "metadata": {},
   "outputs": [],
   "source": [
    "df_raw = spark\n",
    "  .read\n",
    "  .option(\"header\", \"true\")\n",
    "  .schema(schema)\n",
    "  .csv(\"train.csv\")"
   ]
  },
  {
   "cell_type": "code",
   "execution_count": 5,
   "id": "24a7f60d-9104-4606-914f-a36143574cc8",
   "metadata": {},
   "outputs": [
    {
     "name": "stdout",
     "output_type": "stream",
     "text": [
      "+-----------+--------+------+--------------------+------+----+-----+-----+---------+-------+-----+--------+\n",
      "|PassengerId|Survived|Pclass|                Name|   Sex| Age|SibSp|Parch|   Ticket|   Fare|Cabin|Embarked|\n",
      "+-----------+--------+------+--------------------+------+----+-----+-----+---------+-------+-----+--------+\n",
      "|        1.0|     0.0|   3.0|Braund, Mr. Owen ...|  male|22.0|  1.0|  0.0|A/5 21171|   7.25| null|       S|\n",
      "|        2.0|     1.0|   1.0|Cumings, Mrs. Joh...|female|38.0|  1.0|  0.0| PC 17599|71.2833|  C85|       C|\n",
      "+-----------+--------+------+--------------------+------+----+-----+-----+---------+-------+-----+--------+\n",
      "only showing top 2 rows\n",
      "\n"
     ]
    }
   ],
   "source": [
    "df_raw.show(2)"
   ]
  },
  {
   "cell_type": "code",
   "execution_count": 6,
   "id": "fb5c7ed5-7916-4a7b-850a-dbb5c5b5f2db",
   "metadata": {},
   "outputs": [],
   "source": [
    "df = df_raw.na.fill(0)"
   ]
  },
  {
   "cell_type": "code",
   "execution_count": 7,
   "id": "473b2632-e7f6-4629-968a-8e486a38040a",
   "metadata": {},
   "outputs": [],
   "source": [
    "sexIndexer = StringIndexer()\n",
    "  .setInputCol(\"Sex\")\n",
    "  .setOutputCol(\"SexIndex\")\n",
    "  .setHandleInvalid(\"keep\")\n",
    "    \n",
    "cabinIndexer = StringIndexer()\n",
    "  .setInputCol(\"Cabin\")\n",
    "  .setOutputCol(\"CabinIndex\")\n",
    "  .setHandleInvalid(\"keep\")\n",
    "    \n",
    "embarkedIndexer = StringIndexer()\n",
    "  .setInputCol(\"Embarked\")\n",
    "  .setOutputCol(\"EmbarkedIndex\")\n",
    "  .setHandleInvalid(\"keep\")"
   ]
  },
  {
   "cell_type": "code",
   "execution_count": 8,
   "id": "c9c29cb3-8fa4-4df5-81c7-766e4714dfc7",
   "metadata": {},
   "outputs": [],
   "source": [
    "vectorAssembler = VectorAssembler()\n",
    "  .setInputCols([\"Pclass\", \"SexIndex\", \"Age\", \"SibSp\", \"Parch\", \"Fare\", \"CabinIndex\", \"EmbarkedIndex\"])\n",
    "  .setOutputCol(\"features\")"
   ]
  },
  {
   "cell_type": "code",
   "execution_count": 9,
   "id": "ec35e4fb-55cd-4e9f-8679-c1e87d29b585",
   "metadata": {},
   "outputs": [],
   "source": [
    "xgboost = SparkXGBClassifier(\n",
    "    features_col=\"features\", \n",
    "    label_col=\"Survived\",\n",
    "    num_workers=2\n",
    ")"
   ]
  },
  {
   "cell_type": "code",
   "execution_count": 10,
   "id": "026fa8f1-4be0-4d71-b493-a57f2b9b096f",
   "metadata": {},
   "outputs": [],
   "source": [
    "pipeline = Pipeline().setStages([sexIndexer, cabinIndexer, embarkedIndexer, vectorAssembler, xgboost])"
   ]
  },
  {
   "cell_type": "code",
   "execution_count": 11,
   "id": "95825112-8892-4416-88ad-d32b5ab56881",
   "metadata": {},
   "outputs": [],
   "source": [
    "trainDF, testDF = df.randomSplit([0.8, 0.2], seed=24)"
   ]
  },
  {
   "cell_type": "code",
   "execution_count": 12,
   "id": "b1e380ee-9f9b-4d66-8261-e12aab91e312",
   "metadata": {},
   "outputs": [
    {
     "name": "stderr",
     "output_type": "stream",
     "text": [
      "[15:47:47] task 1 got new rank 0                                    (0 + 2) / 2]\n",
      "[15:47:47] task 0 got new rank 1\n",
      "/usr/local/lib/python3.9/site-packages/xgboost/sklearn.py:808: UserWarning: Loading a native XGBoost model with Scikit-Learn interface.\n",
      "  warnings.warn(\"Loading a native XGBoost model with Scikit-Learn interface.\")\n"
     ]
    }
   ],
   "source": [
    "model = pipeline.fit(trainDF)"
   ]
  },
  {
   "cell_type": "code",
   "execution_count": 13,
   "id": "33bd82a5-302d-43ee-bc25-7d7e7ed14611",
   "metadata": {},
   "outputs": [
    {
     "name": "stdout",
     "output_type": "stream",
     "text": [
      "+-----------+----------+\n",
      "|PassengerId|prediction|\n",
      "+-----------+----------+\n",
      "|        8.0|       0.0|\n",
      "|       14.0|       0.0|\n",
      "|       19.0|       1.0|\n",
      "|       21.0|       0.0|\n",
      "|       40.0|       1.0|\n",
      "|       43.0|       0.0|\n",
      "|       56.0|       0.0|\n",
      "|       73.0|       0.0|\n",
      "|       75.0|       0.0|\n",
      "|       77.0|       0.0|\n",
      "|       84.0|       0.0|\n",
      "|       86.0|       0.0|\n",
      "|       97.0|       0.0|\n",
      "|       99.0|       1.0|\n",
      "|      102.0|       0.0|\n",
      "|      103.0|       0.0|\n",
      "|      106.0|       0.0|\n",
      "|      110.0|       1.0|\n",
      "|      116.0|       0.0|\n",
      "|      119.0|       0.0|\n",
      "+-----------+----------+\n",
      "only showing top 20 rows\n",
      "\n"
     ]
    }
   ],
   "source": [
    "model.transform(testDF).select(col(\"PassengerId\"), col(\"prediction\")).show()"
   ]
  },
  {
   "cell_type": "code",
   "execution_count": null,
   "id": "3d34645c-5424-401c-b5af-0e53c61382e2",
   "metadata": {},
   "outputs": [],
   "source": []
  }
 ],
 "metadata": {
  "kernelspec": {
   "display_name": "Python 3 (ipykernel)",
   "language": "python",
   "name": "python3"
  },
  "language_info": {
   "codemirror_mode": {
    "name": "ipython",
    "version": 3
   },
   "file_extension": ".py",
   "mimetype": "text/x-python",
   "name": "python",
   "nbconvert_exporter": "python",
   "pygments_lexer": "ipython3",
   "version": "3.9.12"
  }
 },
 "nbformat": 4,
 "nbformat_minor": 5
}
